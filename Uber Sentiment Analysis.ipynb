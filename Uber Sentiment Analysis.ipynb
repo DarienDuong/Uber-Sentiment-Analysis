{
 "cells": [
  {
   "cell_type": "markdown",
   "metadata": {},
   "source": [
    "## Import Module"
   ]
  },
  {
   "cell_type": "code",
   "execution_count": 1,
   "metadata": {
    "collapsed": true
   },
   "outputs": [],
   "source": [
    "import twitter"
   ]
  },
  {
   "cell_type": "markdown",
   "metadata": {},
   "source": [
    "## Access Twitter API"
   ]
  },
  {
   "cell_type": "code",
   "execution_count": 2,
   "metadata": {
    "collapsed": true
   },
   "outputs": [],
   "source": [
    "api = twitter.Api(consumer_key = 'jvgmVKPBFGGhudPZIXPDEJQdP', \n",
    "                  consumer_secret = 'jzzHZzuK67h56vgxOlSqjBpHMZv2JHBJSlyaF8NfyMwUA3IYlD', \n",
    "                  access_token_key = '856986866393862144-aLs7Xyep8xx1OL8NYyvmAKUTyOAZ95R',\n",
    "                 access_token_secret = 'PXWYugQSkeTOnW1c1XiF7nfsbQAmgbxlu6hYqri4DFSpB')"
   ]
  },
  {
   "cell_type": "code",
   "execution_count": 3,
   "metadata": {
    "collapsed": false
   },
   "outputs": [
    {
     "name": "stdout",
     "output_type": "stream",
     "text": [
      "{\"created_at\": \"Tue Apr 25 21:42:45 +0000 2017\", \"default_profile\": true, \"default_profile_image\": true, \"followers_count\": 1, \"friends_count\": 40, \"id\": 856986866393862144, \"lang\": \"en\", \"name\": \"Darien Duong\", \"profile_background_color\": \"F5F8FA\", \"profile_image_url\": \"http://abs.twimg.com/sticky/default_profile_images/default_profile_normal.png\", \"profile_link_color\": \"1DA1F2\", \"profile_sidebar_fill_color\": \"DDEEF6\", \"profile_text_color\": \"333333\", \"screen_name\": \"DuongDarien\"}\n"
     ]
    }
   ],
   "source": [
    "print (api.VerifyCredentials())"
   ]
  },
  {
   "cell_type": "code",
   "execution_count": 30,
   "metadata": {
    "collapsed": false
   },
   "outputs": [
    {
     "name": "stdout",
     "output_type": "stream",
     "text": [
      "Hi there! What are we searching for today?'#uber'\n",
      "Great! We fetched 89 tweets with the term '#uber'!!\n"
     ]
    }
   ],
   "source": [
    "def createTestData(search_string):\n",
    "    try:\n",
    "        tweets_fetched = api.GetSearch(search_string, count = 200)\n",
    "        print ('Great! We fetched '+str(len(tweets_fetched))+' tweets with the term '+search_string+'!!')\n",
    "        return [{\"text\":status.text, \"label\":None} for status in tweets_fetched]\n",
    "    except:\n",
    "        print (\"Sorry there was an error!\")\n",
    "        return None\n",
    "\n",
    "search_string = input(\"Hi there! What are we searching for today?\")\n",
    "testData = createTestData(search_string)"
   ]
  },
  {
   "cell_type": "code",
   "execution_count": 31,
   "metadata": {
    "collapsed": false
   },
   "outputs": [
    {
     "data": {
      "text/plain": [
       "[{'label': None,\n",
       "  'text': 'Pasajeros golpean a conductora de #Uber en #CdMx https://t.co/jeA5VMJ4P6 @Uber_MEX se niega a dar los nombres https://t.co/0dg3NPMv3d'},\n",
       " {'label': None,\n",
       "  'text': 'Traffic in the sky: High-flying #Uber announces plans to launch ‘air taxis’ by 2020 https://t.co/lznidByWhJ https://t.co/KOn4CSxV9f'},\n",
       " {'label': None,\n",
       "  'text': '#Entérate | Dentro de unos años, tu viaje en #Uber podría ser en un auto volador https://t.co/IQI7KPg9fA https://t.co/lW5GaDScYl'},\n",
       " {'label': None,\n",
       "  'text': 'RT @njdotcom: #Uber is offering to help people trying to get out of #Hoboken after the #NJtransit crash at the Hoboken terminal https://t.c…'},\n",
       " {'label': None,\n",
       "  'text': '#Uber will offer UK drivers (limited) sick and injury benefits. Read more: https://t.co/z2r7FWX6oe'},\n",
       " {'label': None,\n",
       "  'text': '#Uber’s #Anthony #Levandowski #out as #Advanced #Technologies #lead #amid #legal #fight\\nhttps://t.co/4Og0FX1oht\\n#News #TehNews #Companies #H'},\n",
       " {'label': None,\n",
       "  'text': 'RT @DJJon: when your @uber driver puts on the baseball game instead of music... @DJsComplaining #uber #djscomplaining #pumpedformyset #zzzz…'},\n",
       " {'label': None,\n",
       "  'text': 'Need a uber? First-time #uber users can save $20 with our promo code, \"TRYFREE94\" and be on your way to the OC…… https://t.co/6ICa6om8RQ'},\n",
       " {'label': None,\n",
       "  'text': 'Uber’s Anthony Levandowski out as Advanced Technologies lead amid legal fight https://t.co/jqHtrpgOT2 #Automotive… https://t.co/D2vbGpcGaB'}]"
      ]
     },
     "execution_count": 31,
     "metadata": {},
     "output_type": "execute_result"
    }
   ],
   "source": [
    "testData[0:9]"
   ]
  },
  {
   "cell_type": "markdown",
   "metadata": {
    "collapsed": false
   },
   "source": [
    "def createTrainingCorpus(corpusFile,tweetDataFile):\n",
    "    import csv\n",
    "    corpus=[]\n",
    "    with open(corpusFile, 'rb') as csvfile:\n",
    "        lineReader = csv.reader(csvflile, delimiter = ',', quotechar = \"\\\"\")\n",
    "        for row in lineReader:\n",
    "            corpus.append({\"tweet_id\":row[2], \"label\":row[1], \"topic\":row[0]})\n",
    "    \n",
    "    import time\n",
    "    rate_limit = 180\n",
    "    sleep_time = 900/180\n",
    "    \n",
    "    trainingData = []\n",
    "    for tweet in corpus:\n",
    "        try:\n",
    "            status = api.GetStatus(tweet[\"tweet_id\"])\n",
    "            print ('Tweet fetched' + status.text)\n",
    "            tweet[\"text\"] = status.text\n",
    "            trainingData.append(tweet)\n",
    "            time.sleep(sleep_time)\n",
    "        except:\n",
    "            continue\n",
    "    with open(tweetDataFile, 'wb') as csvfile:\n",
    "        linewriter = csv.writer(csvfile,delimiter = ',',quotechar = \"\\\"\")\n",
    "        for tweet in trainingData:\n",
    "            linewriter.writerow([tweet[\"tweet_id\"],tweet[\"text\"],tweet[\"label\"], tweet[\"topic\"]])\n",
    "    return trainingData"
   ]
  },
  {
   "cell_type": "code",
   "execution_count": 13,
   "metadata": {
    "collapsed": false
   },
   "outputs": [
    {
     "name": "stdout",
     "output_type": "stream",
     "text": [
      "Tweet fetchedNow all @Apple has to do is get swype on the iphone and it will be crack. Iphone that is\n",
      "Tweet fetchedHilarious @youtube video - guy does a duet with @apple 's Siri. Pretty much sums up the love affair! http://t.co/8ExbnQjY\n",
      "Tweet fetched@RIM you made it too easy for me to switch to @Apple iPhone. See ya!\n",
      "Tweet fetchedThe 16 strangest things Siri has said so far. I am SOOO glad that @Apple gave Siri a sense of humor! http://t.co/TWAeUDBp via @HappyPlace\n",
      "Tweet fetchedGreat up close & personal event @Apple tonight in Regent St store!\n",
      "Tweet fetchedFrom which companies do you experience the best customer service aside from @zappos and @apple?\n",
      "Tweet fetchedJust apply for a job at @Apple, hope they call me lol\n",
      "Tweet fetchedLmao I think @apple is onto something magical! I am DYING!!! haha. Siri suggested where to find whores and where to hide a body lolol\n",
      "Tweet fetchedRT @PhillipRowntree: Just registered as an @apple developer... Here's hoping I can actually do it... Any help, greatly appreciated!\n",
      "Tweet fetchedWow. Great deals on refurbed #iPad (first gen) models. RT: Apple offers great deals on refurbished 1st-gen iPads http://t.co/ukWOKBGd @Apple\n",
      "Tweet fetchedJust registered as an @apple developer... Here's hoping I can actually do it... Any help, greatly appreciated!\n",
      "Tweet fetched你好 ! Currently learning Mandarin for my upcoming trip to Hong Kong. I gotta hand it to @Apple iPhones & their uber useful flashcard apps  \n",
      "Tweet fetchedCome to the dark side 📱“@gretcheneclark: Hey @apple, if you send me a free iPhone, I will publicly and ceremoniously burn my #BlackBerry.”\n",
      "Tweet fetchedHey @apple, if you send me a free iPhone (any version will do), I will publicly and ceremoniously burn my #BlackBerry.\n",
      "Tweet fetchedThanks to @Apple Covent Garden #GeniusBar for replacing my MacBook keyboard/cracked wristpad during my lunch break today, out of warranty.\n",
      "Tweet fetched@DailyDealChat @apple Thanks!!\n",
      "Tweet fetchediPads Replace Bound Playbooks on Some N.F.L. Teams http://t.co/2UXAWKwf @apple @nytimes\n",
      "Tweet fetched@apple @siri is efffing amazing!!\n",
      "Tweet fetchedRT @TripLingo: We're one of a few \"Featured Education Apps\" on the @Apple **Website** today, sweet! http://t.co/0yWvbe1Z\n",
      "Tweet fetchedWe're one of a few \"Featured Education Apps\" on the @Apple **Website** today, sweet! http://t.co/0yWvbe1Z\n",
      "Tweet fetchedWhen you want something done right, you do it yourself... or go to @Apple. AT&T you're useless these days. #yourdaysarenumbered\n",
      "\n",
      "\n",
      "Tweet fetchedWe did an unexpected workshop for the #iPhone4S at @apple yesterday and we got an awesome amount of info #notjustaboutthephone @gamerchik16\n",
      "Tweet fetched---» RT @Apple No question bro. RT @AintEeenTrippin: Should I get dis iPhone or a EVO 3D?\n",
      "Tweet fetchedRT @imightbewrong: I'm OVER people bitching about the #iPhone4S... I think it's the smartest phone I've ever had and I'm very happy.   : ...\n",
      "Tweet fetchedI'm OVER people bitching about the #iPhone4S... I think it's the smartest phone I've ever had and I'm very happy.   :)  Way to go @Apple!\n",
      "Tweet fetched@Twitter CEO points to @Apple as 'corporate mentor' as @iOS signups triple http://t.co/GCY8iphN\n",
      "Tweet fetchedAt the bus with my iPhone ;) thxx @apple\n",
      "Tweet fetched@azee1v1 @apple @umber AppStore is well done, so is iTunes on the mobile devices.  I was talking about desktop app.\n",
      "Tweet fetchedNYTimes: Coach Wants to See You. And Bring Your iPad. http://t.co/J2FTiEnG #iPad @apple set red 42 red 42 hut hut @NFL wish I had an #iPad\n",
      "Tweet fetched@apple @jilive @DanielPink: Apple sells 4 million iPhone 4S units in first weekend ... Steve Jobs brilliance lives on for ever! #iphone #RVA\n",
      "Tweet fetched@bkad5161 than apologize to @apple ;)\n",
      "Tweet fetched@Apple downloads of iOS 5 are proving popular with users  -- http://t.co/NSHLfiUX\n",
      "Tweet fetchedLmfao look at the argument I had with Siri !!\n",
      "@ijustine @apple http://t.co/D4VjL7SI\n",
      "Tweet fetchedIncredible: 4 million iPhone 4Ss in 3 days. 135% better than the iPhone 4 http://t.co/1FMJxTMM @apple #iphone4s\n",
      "Tweet fetchedWell @apple fixed my #ios5 battery drain problem with a replacement iPhone 4 -- it's working like a champ now\n",
      "Tweet fetchedCurrently ordering a BRAND NEW MACBOOK PRO!!! Bahhh... my MacBook is 5 years old. I'll miss it. But it's time. cc: @Apple -\n",
      "Tweet fetched#Siri now knows who my dad, mom, brother and girlfriend is.  Thanks @apple\n",
      "Tweet fetchedWell at least the @apple store has amazing call waiting music! #need4s\n",
      "Tweet fetched#sweet... #apple replaced my glass #probono. thank you @apple\n",
      "Tweet fetchedNot Bad! @Apple Sells Over 4 Million #IPhones in Debut Weekend - Bloomberg http://t.co/AVSl3ygU - #smartphone #sm RT @VinodRad\n",
      "Tweet fetchedloving new technology from @apple iPhone 4s, mac air and iCloud are unreal #technology\n",
      "Tweet fetchedI'm loving this new IOS5 update :) @apple\n",
      "Tweet fetchedAnother mention for Apple Store: http://t.co/fiIOApKt - RT @floridamike Once again getting great customer service from the @apple store ...\n",
      "Tweet fetchedTime to go get my iPhone 4s.  Looking forward to sticking it to the man by no longer paying for most texts.  Thanks @apple.\n",
      "Tweet fetchedThank you @apple. My new gf(iphone4s) is great!  She does everything!\n",
      "Tweet fetched#iCloud set up was flawless and works like a champ! To the Cloud @Apple\n",
      "Tweet fetched@Wisconsin_Mommy @Apple I'd totally email the company... I always get great service at our @Apple store!\n",
      "Tweet fetched@apple loving the new IOS5 upgrade for the iPhone!\n",
      "Tweet fetchedOnce again getting great customer service from the @apple store at millenia mall.\n",
      "Tweet fetchedIs it just me or is #iOS5 faster for the iPad? @apple\n",
      "Tweet fetchedmaking the switch from @Android to @Apple #iphone #iphone4S #smartphone #stevejobs (@ Apple Store) http://t.co/kj6pJvkH\n",
      "Tweet fetchedSo THANKFUL for the incredible people @apple for going above and beyond and offering to and replacing my  water-damaged Macbook Pro!!! Wow!\n",
      "Tweet fetchedPlay on ma man. Loving the camera in the #iphone4s. Well done @apple  #fb http://t.co/tmdFqRe1\n",
      "Tweet fetchedSo yeah... @apple #iOS5 #readinglists have changed my life. #nowicanspendevenmoretimeonmyphone.\n",
      "Tweet fetched@Apple Safari Reader owns the worldwide web\n",
      "Tweet fetchedI love @apple service . My case has cracked 3x and I go in and they hand me a case and I walk out\n",
      "Tweet fetchedSaid to have laid out the next 4 years @apple.Jobs last iPhone is 2012 not the iPhone4S. iPhone(4G/5) 2012 is magical! http://t.co/DxxklUBp\n",
      "Tweet fetchedKind of excited. On my way to my last class right now and then going to the @Apple store, so buy #MacOSC Snow Leopard and Lion :-)\n",
      "Tweet fetchedi used to be with @blackberry over 4-5yrs .. after all the disruptions and lost gigs thx to their service im moving to @apple #iphone\n",
      "Tweet fetchedApple sells 4 million iPhones in 3 days @apple keep doing what you are doing, because you are doing it well! http://t.co/ZZc6bE0w\n",
      "Tweet fetched4 millions in a weekend, 16 #iPhone4S per second. This is madness?! no, this is @Apple !!!\n",
      "Tweet fetched.@apple you got me. I'm now invested. MacBook Pro next year. Time to get on selling more of my #android gear\n",
      "Tweet fetchedI just sent my grandma a post card using my #CardsApp thanks @Apple\n",
      "Tweet fetched@KostaTsetsekas @apple Putting it in the wash is kind of the equivalent to \"Will it blend?\" Glad to hear it's still alive.\n",
      "Tweet fetchedGod Bless @YouTube, @apple for  #appletv & our bad ass system. LOVING #PrincessOfChina. GB to @coldplay & @rihanna too :)\n",
      "Tweet fetchedBeen off twitter for a few days as I smashed my iPhone but @apple were very nice and gave me a new one :)\n",
      "Tweet fetchedThank you @Apple iOS 5 for email pop up on the lock screen and opening it when unlocking.\n",
      "Tweet fetchedOne word - #wow. RT @jldavid iPhone 4S First Weekend Sales Top Four Million: http://t.co/Zx5Pw0GT (via @apple)\n",
      "Tweet fetchedRT @MN2NOVA: Love ios5 Easter eggs. Pull down from middle top to bottom and see what pulls down. Awesome little feature! #ios5 @apple\n",
      "Tweet fetchedLove ios5 Easter eggs. Pull down from middle top to bottom and see what pulls down. Awesome little feature! #ios5 @apple\n",
      "Tweet fetchedLove #ios5 Easter eggs. Pull down from middle top to bottom and see what pulls down. Awesome little feature! @apple #lovemyiphone\n",
      "Tweet fetchedGone for a run, beautiful morning , man do I love iOS 5 @apple, #iPhone\n",
      "Tweet fetched@apple your simply the best.\n",
      "Tweet fetchedI must admit @apple has made me a very happy camper! I have text tones now! Lol! Ring tone: #MakeMeProud Drakes vers! Text tone: Nicki's\n",
      "Tweet fetchedDay305, I'm thankful for the great customer service received today from @Apple via phone CS, new phone on the way #365daysofgratefulness\n",
      "Tweet fetchedLoving the new iPod update @apple\n",
      "Tweet fetched@alexlindsay My wife upgraded her iPhone 4. I think Siri alone is worth the upgrade. Looking forward to @Apple continuing to enhance Siri.\n",
      "Tweet fetched@SteveJobs being honored tonite @Apple...A truly great loss to the world.He will so be missed\n",
      "Tweet fetchedThx @instagram Thx @apple #hypo #D-76 #tri-x http://t.co/D7EeJHBT\n",
      "Tweet fetchedLoving my new #iPhone4S thanks @apple for #ios5\n",
      "Tweet fetched@apple the iPhone 4s is great #genius\n",
      "Tweet fetched@apple Cards app notifies me the card I sent has arrived at local post office and should be delivered today... Sunday. Truly is #magic.\n",
      "Tweet fetched@apple Siri is amazing\n",
      "Tweet fetched@rygurl you need an @apple iphone4S with Siri!\n",
      "Tweet fetchedMeet #Siri, your new iPhone butler. Click the link and be amazed by all it can do: http://t.co/lvfFdCEL @Apple\n",
      "Tweet fetchedSo, I am using my work PC (NEVER EVER) to get a feel for it; it has the worst speakers ever!! @apple you have spoiled me!! #imamac\n",
      "Tweet fetchedI ♥ @Apple http://t.co/a8on3IAa\n",
      "Tweet fetched@apple just got the new iOS5 upgrade with iMessage...good luck surviving now @BlackBerry\n",
      "Tweet fetchedLoving #iOS5 !! #awesome @Apple\n",
      "Tweet fetchedRT @MattyRiesz: @kathrynyee You were right, an iPhone is a must have. #addicted {WELCOME TO THE @APPLE CLUB}\n",
      "Tweet fetched@Apple's Siri is witchcraft.  What's next @googleresearch. 2 yr lead lost?\n",
      "Tweet fetched@Apple iOS 5 is sweet! Notifications, phone search covers mail now, wifi sync, iCloud backup and integrated Twitter are all well done.\n",
      "Tweet fetchedRT @katebetts: Another great James Stewart story in today's NY Times about importance of architecture in @apple retail success http://t. ...\n",
      "Tweet fetchedAnother great James Stewart story in today's NY Times about importance of architecture in @apple retail success http://t.co/Kniz452s\n",
      "Tweet fetchedWelcome to the twitter world @MarkStuver. This is due to #iOS5 and @apple thanks guys.\n",
      "Tweet fetchedImpressive service @apple genius bar metro centre. Power cable replaced free n booked in for screen replacement for free :- D\n",
      "Tweet fetchedRT @deb_lavoy: the nice guy at the @apple store replaced my phone gratis when I showed him the hairline  crack on the screen. thanks @apple\n",
      "Tweet fetchedthe nice guy at the @apple store replaced my phone gratis when I showed him the hairline  crack on the screen. thanks @apple\n",
      "Tweet fetchedMy iPhone 4S battery lasted longer than a day. That hasn't happened since my edge iPhone. Nice job, @apple.\n",
      "Tweet fetchedIt would have taken me 15 mins to write this with my #Blackberry. Thank u @Apple 4s for converting me and showing me the grass is greener!\n",
      "Tweet fetchedRT @cjwallace03: So apparently @apple put MB cap on your SMS with the new update. 25mb storage before it tells you your inbox is full. W ...\n",
      "Tweet fetchedRT @Jewelz2611 @mashable @apple, iphones r 2 expensive. Most went w/ htc/galaxy. No customer loyalty w/phone comp..\n",
      "Tweet fetched@mashable @apple, iphones r 2 expensive. Most went w/ htc/galaxy. No customer loyalty w/phone comp..\n",
      "Tweet fetched@apple why my tunes no go on my iPhone? iPhone lonely without them. silly #iOS5\n",
      "Tweet fetched@apple needs to hurry up and release #iTunesMatch\n",
      "Tweet fetchedWhy is  #Siri always down @apple\n",
      "Tweet fetchedI just need to exchange a cord at the apple store why do I have to wait for a genius? @apple\n",
      "Tweet fetched@apple AirDrop #fail - Immediate \"declined your request.\" every time\n",
      "Tweet fetchedgood article about why @apple fucked it all up with lion and their future. http://t.co/zNDP9Vr6 #fb\n",
      "Tweet fetchedYellowgate? Some iPhone 4S Users Complain of Yellow Tint to Screen http://t.co/uaqrxTNk @apple @iphone4s\n",
      "Tweet fetchedThe one #iphone feature still missing since @apple first showed it.. Contacts pictures on the contacts list! Simple yet 5 major updates miss\n",
      "Tweet fetchedAsked siri is she dreams of electric sleep. Was disappointed that she didn't have a snippy answer.  Missed opportunity @apple\n",
      "Tweet fetched@paulens It surprises me that @Apple throws up an error alert about authorizing, and there's no \"Authorize this computer\" button.\n",
      "Tweet fetchedFUCK YOU @apple DIE IN A FUCKING BLAZE INFERNO.\n",
      "Tweet fetchedOh, @apple. Steve obviously had nothing to do with iPhoto, as it's the perfect opposite of 'insanely great'. Get it fixed, please.\n",
      "Tweet fetched@ryanbaldwin @apple So in iTunes I go Store -&gt; Authorise… why doesn't it just auto-authorise it when I sign into iTunes? Grrrr...\n",
      "Tweet fetchedSeriously - I have absolutely no offing clue what @Apple means by \"authorization\", nor how to do it.\n",
      "Tweet fetchedBoy, could @apple make it any harder to put my purchased music from the cloud on to my new macbook pro? \"You must authorize this computer…\"\n",
      "Tweet fetchedshit, shit, shit. IOS5 update ate all my apps, data and media just like @apple said it would. This is going to take some time to rebuild.\n",
      "Tweet fetched. @apple & @AT&T u cannot tell me there isn't at least 1 64GB iPhone 4S in LA or Vegas!! Give me a fucking break!!!!\n",
      "Tweet fetchedLove @apple downloads. 4 hours and i-pad now wonky! #ripstevejobs #thenonsensepersists #neednewipadguide #fatfuckingchance\n",
      "Tweet fetchedDear @apple My new Air is now a notbook since your update killed #wifi #bug #destroying #productivity\n",
      "Tweet fetchedI am so done with @Att and @apple 's profitering and lack of customer service, so fucking down with both!!!\n",
      "Tweet fetchedIt would be great If @Apple would send my new phone. #frustrated\n",
      "Tweet fetched@apple thank you for ruining my 3GS with #iOS5. You've just turned my phone into an utterly useless pile of shit.\n",
      "Tweet fetched@rogerweir no but I have the option of a  replacement iPhone 4s ?\n",
      "Not sure if I want one after having 2 duff iPhones.\n",
      "@O2 @iphone4s @apple\n",
      "Tweet fetchedSo apparently @apple put MB cap on your SMS with the new update. 25mb storage before it tells you your inbox is full. What is this 2001?\n",
      "Tweet fetchedYou know @apple It's been almost a week since I paid for iTunes Match, I would really like to use it. Any ETA on a fix?\n",
      "Tweet fetchedremoving all @apple shit.\n",
      "Tweet fetchedSo @PhoenixSwinger 's iPhone 4 is giving her a hella hard time w/ the iOS5 update @apple\n",
      "Tweet fetched@Apple can't send me an iPhone preordered 1hr after launching but they cans send 5 or 10 to all the jackasses who want to shoot or blend 'em\n",
      "Tweet fetchedGotta say the @Apple itouch iphone shuffle etc.. sound quality is AWFUL.. painfully crap. Its been a downgrade from @Sony sound quality wise\n",
      "Tweet fetched@bisquiat @Apple the upgrade just slows down my phone so much, it's stuck half the time. uch. thankfully no other damage. sucks for you :(\n",
      "Tweet fetched@Mayati I think @Apple didn't do such a thorough job with the step x steps for upgrade and move to iCloud. Now it's cost me mightily.\n",
      "Tweet fetchedHey @apple now I have iOS5 my iPhone doesn't include songs that are on compilation albums under the artist's name. #whaddupwitdat\n",
      "Tweet fetched@NickTheFNicon He can send but not rcve txts so he has an apt @apple at 4pm.Then he exclaims: And I waited a whole YEAR for this phone!!LMAO\n",
      "Tweet fetchedTotal chaos at @apple store regent street. Like an Ethiopian feeding station. Can't believe this is same co. that makes all that cool shit.\n",
      "Tweet fetched@FishMama: If you made a purchase, just wait for the @apple survey! hate going b/c of the bad #custserv\n",
      "Tweet fetchedCorrection: @ Best Buy kudos to Chris @ Alamo Ranch S.A. TX-fixed issues couldn't resolve after 1/2 day w/ @ATT & @Apple. Hero of my day!\n",
      "Tweet fetched@phxguy88 @Apple @BGR That's why all the ppl who stand in line for hrs to get the \"newest\" model are suckers...\n",
      "Tweet fetchedWould it kill @apple to put a braille type bump on their earbuds so we know which bud is R and L in the dark.\n",
      "Tweet fetched@APPLE Wow @MOTOROLA Just crushed your dreams....\n",
      "Tweet fetchedTime to play a game called wait at the @apple store forever because the tourists are taking forever with their genius appointments.\n",
      "Tweet fetchedOh, just fuck you, @apple. Already?? ---&gt;  iPhone 5 on schedule for summer launch? http://t.co/Ofh9PTaG via @BGR\n",
      "Tweet fetched@apple, \n",
      "No, I won't wait until thursday for an available appointment just so a 'genius' can tell me I'm shit out of luck. #now\n",
      "Tweet fetched@Apple, on the #iPad with #iOS5, why has the Messages Icon been included when it can't be used?\n",
      "Tweet fetched@Steelo254 yea! I pre-order through @apple and they sorry too just like #AT&T\n",
      "Tweet fetchedInteresting... @apple now requires you to have a reservation ?         #apple #iphone #4S    :  http://t.co/zZK4fTii\n",
      "Tweet fetched@apple why is my iPhone battery so crappy #fail\n",
      "Tweet fetchedMy @Apple @macbook keyboard will not type :(\n",
      "Tweet fetchedWhy doesn't @apple iCloud sync Stickies? They've always been around, just nothing every progressed w/ them!! Why apple why?  @gruber\n",
      "Tweet fetched@apple, your new \"Save a Version\" function in Pages is absolutely the most awful, interrupting, counter-intuitive piece of crap in the world\n",
      "Tweet fetchedI hate my @apple computer.  Thats 3500 dollars down the drain.\n",
      "Tweet fetched@apple my iPhone is charging very slowly!!!!!\n",
      "Tweet fetched@Apple #iOS5 gm on ipad1 is very slow wash better on beta7/8 solve this problem, or give me the ipad2\n",
      "Tweet fetched@apple Wish I could pick month, day, and YEAR when setting a new calendar item on my iPhone. Why hasn't the new iOS fixed this yet?!\n",
      "Tweet fetched@Apple iTunes is the worst program ever. For such a great phone, you make some awful software.\n",
      "Tweet fetchedOne would think the voice recognition on the @apple tech support line would work a little better.\n",
      "Tweet fetched@apple $319 to repair my iPad 2, Apple you've lost me and my $700 a year, Android here I come!\n",
      "Tweet fetched@azee1v1 @apple @umber Proper consolidation, proper syncing, stop losing my PURCHASED items, checkboxes that do what you think they will do.\n",
      "Tweet fetched@AsimRang @apple @umber the desktop app is wack though\n",
      "Tweet fetchedI made a reservation and yet I still have to wait in line. Humpt! Oh @apple (@ Apple Store w/ 2 others) http://t.co/JZmVBdNm\n",
      "Tweet fetchedFrustrated that I bought a new macbook pro from @apple only to find it doesnt ship with media! #expensivepaperweight\n",
      "Tweet fetchedDear @apple. I had to turn off all those awesome featured you just enabled. Data plan can't handle it. 200 mb of data just because #\n",
      "Tweet fetched#DontBeMadAtMeBecause #Android is by far better than @Apple\n",
      "Tweet fetched@apple is there a problem with iOS 5 that is preventing audio apps and audio functions from operating properly? I keep losing sound.\n",
      "Tweet fetched@apple #apple One thing I hater about this #mouse the #buttery finish so fast am not #happy now #macworld @macworld http://t.co/5Uh4a4Vt\n",
      "Tweet fetchedHey @Apple: stop sending your automatically-depreciate-all-iPhones-older-than-the-4s signal. My #iPhone4 is dying rapidly processor-wise.\n",
      "Tweet fetchedOnly thing bad about the new @canon camera is that it has two compact flash cards... not one of SD. SD goes in my @apple computer. Damn you!\n",
      "Tweet fetchedWtf @apple 64 pages for the new terms & conditions when u update ur apps from the iTunes store. Do u really think we'll read em? Really???\n",
      "Tweet fetchedfuck u @apple\n",
      "Tweet fetchedoh and prolly ganna be late to work bc @apple has screwed me and my phone has my only alarm on it\n",
      "Tweet fetchedwhy the fuck dose my phone decide its just ganna freeze every time i try to update it so fucking sick of @apple\n",
      "Tweet fetched. if u need me just text me o wait u i wont get it cuz @apple fucks me every time #fuckingpissed\n",
      "Tweet fetchedLike @apple da fuck is this shit?  http://t.co/nb4DHlSg\n",
      "Tweet fetchedRT @CircusTK: I'm wit chu!! “@ShayDiddy: Officially boycotting @ups!!! Calling @apple to curse them out next for using them wasting my t ...\n",
      "Tweet fetchedDamn it @Apple!! Whatchu done to my phone??\n",
      "Tweet fetchedSamsung seeks iPhone 4S ban in Japan and Australia\n",
      "Patent war intensifies with injunction sought against @Apple http://t.co/QmwjTvnk\n",
      "Tweet fetched@apple, why is it every time there is iOS software update my iPad goes dead and I need to totally restore? #fail\n",
      "Tweet fetched@apple #iOS.5 has been nothing but a pain in the ass no room for my music.. Or photos.. Or apps! Can I undo this garbage??\n",
      "Tweet fetched@apple the reservation system not working, shows no products avail let alone iphone 4s I had the site open in 3 browsers at 9 PM and nothing\n",
      "Tweet fetched@albertmal88 remember @apple is evil. #icloud entering the #dropbox market\n",
      "Tweet fetchedI know a few others having same issue RT @Joelplane: 9% now on my second full charge of the day. Pissed @Apple\n",
      "Tweet fetched9% now on my second full charge of the day. Pissed @Apple\n",
      "Tweet fetchedRT @ShayDiddy: @CircusTK @ups @apple both of them are bs!!! How do u tell me go between a certain time ONLY and the muh fuh is closed!\n",
      "Tweet fetchedI'm wit chu!! “@ShayDiddy: Officially boycotting @ups!!! Calling @apple to curse them out next for using them wasting my time!”\n",
      "Tweet fetchediTunes is @apple's worst product. Worse than the #Newton or the hockey puck mouse. It's utterly painful to use.\n",
      "Tweet fetchedDeár iCloud I HATE U , AND I HOPE YOU DIE , YOU ARE THE WORST FUCKING INVENTION IN THE WORLD , FUCK YOUUUUUUUUUUUU #iCloud @apple @stevejobs\n",
      "Tweet fetchedi update to ios 5 and lose everything on my phone and it wont let me sign into my itunes account... thanks @Apple\n",
      "Tweet fetchedIssues with updating iTunes on my windows pc - they really are not compatible.... Sent more time talking to @Apple care than using it!!\n",
      "Tweet fetched@apple u guys are gay\n",
      "Tweet fetchedRestored my iPhone. STILL NO TEXTS. DEAR @APPLE Y NO LOVE, Y RESTRICTIONS ON MY SMS?  Y NO TEXTS.... #iOS5 #iOS5atemydingo\n",
      "Tweet fetchednone of my apps work after the new ios from @apple. what do i do?!?\n",
      "Tweet fetchedSeemingly endless loop of calls to @apple, @ups, @verizonwireless to investigate my missing #iphone4s. #crankywithnophone\n",
      "Tweet fetched@Wisconsin_Mommy @apple that's terrible!  I hope you get an apology!\n",
      "Tweet fetched@zombiebomber have been on the phone with @verizonwireless and @apple pretty much ever since then. Really annoyed.\n",
      "Tweet fetched@chascouponmom @apple I get they are busy w/ the new phone, but I just wanted to buy a stylus. they made me wait forever outside & never\n",
      "Tweet fetched@apple @iphone Please deliver my daughter's i4s, she is driving me nuts #iphone\n",
      "Tweet fetched@sprint @bestbuy still no word on my iPhone4s preorder.  Best Buy blames Sprint, Sprint blames @apple, I just want an honest answer.  #help\n",
      "Tweet fetchedHey @apple, the SMS full message is complete shit. Yes, I'm annoyed.\n"
     ]
    }
   ],
   "source": [
    "def createLimitedTrainingCorpus(corpusFile,tweetDataFile):\n",
    "    import csv\n",
    "    corpus=[]\n",
    "    with open(corpusFile, 'r') as csvfile:\n",
    "        lineReader = csv.reader(csvfile, delimiter = ',', quotechar = \"\\\"\")\n",
    "        for row in lineReader:\n",
    "            corpus.append({\"tweet_id\":row[2], \"label\":row[1], \"topic\":row[0]})\n",
    "\n",
    "    trainingData = []\n",
    "    for label in [\"positive\", \"negative\"]:\n",
    "        i = 1\n",
    "        for tweet in corpus:\n",
    "            if tweet[\"label\"] ==label and i<=100:\n",
    "                try:\n",
    "                    status = api.GetStatus(tweet[\"tweet_id\"])\n",
    "                    print ('Tweet fetched' + status.text)\n",
    "                    tweet[\"text\"] = status.text\n",
    "                    trainingData.append(tweet)\n",
    "                    i = i+1\n",
    "                except:\n",
    "                    continue\n",
    "                    \n",
    "    with open(tweetDataFile, 'wb') as csvfile:\n",
    "        linewriter = csv.writer(csvfile,delimiter = ',',quotechar = \"\\\"\")\n",
    "        for tweet in trainingData:\n",
    "            try:\n",
    "                linewriter.writerow([tweet[\"tweet_id\"],tweet[\"text\"],tweet[\"label\"], tweet[\"topic\"]])\n",
    "            except:\n",
    "                continue\n",
    "                \n",
    "    return trainingData\n",
    "\n",
    "corpusFile = r\"C:\\Users\\darie_000\\Desktop\\Git\\Uber-Sentiment-Analysis\\corpus.csv\"\n",
    "tweetDataFile = r\"C:\\Users\\darie_000\\Desktop\\Git\\Uber-Sentiment-Analysis\\tweetDataFile.csv\"\n",
    "\n",
    "trainingData = createLimitedTrainingCorpus(corpusFile,tweetDataFile)"
   ]
  },
  {
   "cell_type": "markdown",
   "metadata": {},
   "source": [
    "**Preprocess the tweets using NLTK and regex**"
   ]
  },
  {
   "cell_type": "code",
   "execution_count": 32,
   "metadata": {
    "collapsed": false
   },
   "outputs": [],
   "source": [
    "import re\n",
    "from nltk.tokenize import word_tokenize\n",
    "from string import punctuation\n",
    "from nltk.corpus import stopwords\n",
    "\n",
    "class PreProcessTweets:\n",
    "    def __init__(self):\n",
    "        self._stopwords = set(stopwords.words('english') + list(punctuation) + ['AT_USER', 'URL'])\n",
    "        \n",
    "    def _processTweet(self,tweet):\n",
    "        tweet = tweet.lower()\n",
    "        tweet = re.sub('((www\\.[^\\s]+) | (https?://[^\\s]+))', 'URL', tweet)\n",
    "        tweet = re.sub('@[^\\s]+', 'AT_USER', tweet)\n",
    "        tweet = re.sub(r'#([^\\s]+)', r'\\1', tweet)\n",
    "        tweet = word_tokenize(tweet)\n",
    "        return [word for word in tweet if word not in self._stopwords]\n",
    "    \n",
    "    def processTweets(self, list_of_tweets):\n",
    "        processedTweets = []\n",
    "        for tweet in list_of_tweets:\n",
    "            processedTweets.append((self._processTweet(tweet[\"text\"]), tweet[\"label\"]))\n",
    "        return processedTweets\n",
    "    \n",
    "\n",
    "    \n",
    "tweetProcessor = PreProcessTweets()\n",
    "ppTrainingData = tweetProcessor.processTweets(trainingData)\n",
    "ppTestData = tweetProcessor.processTweets(testData)"
   ]
  },
  {
   "cell_type": "markdown",
   "metadata": {},
   "source": [
    "## Building the Naive Bayes and Support Vector Machine Model"
   ]
  },
  {
   "cell_type": "code",
   "execution_count": 33,
   "metadata": {
    "collapsed": false
   },
   "outputs": [],
   "source": [
    "import nltk"
   ]
  },
  {
   "cell_type": "markdown",
   "metadata": {},
   "source": [
    "Get list of all words in every single tweet"
   ]
  },
  {
   "cell_type": "code",
   "execution_count": 34,
   "metadata": {
    "collapsed": true
   },
   "outputs": [],
   "source": [
    "def buildVocabulary(ppTrainingData):\n",
    "    all_words = []\n",
    "    for (words, sentiment) in ppTrainingData:\n",
    "        all_words.extend(words)\n",
    "    wordlist = nltk.FreqDist(all_words)\n",
    "    word_features=wordlist.keys()\n",
    "    return word_features\n",
    "\n",
    "def extract_features(tweet):\n",
    "    tweet_words = set(tweet)\n",
    "    features={}\n",
    "    for word in word_features:\n",
    "        features['contains(%s)' % word] = (word in tweet_words)\n",
    "    return features\n",
    "\n",
    "word_features = buildVocabulary(ppTrainingData)\n",
    "trainingFeatures=nltk.classify.apply_features(extract_features, ppTrainingData)"
   ]
  },
  {
   "cell_type": "code",
   "execution_count": 35,
   "metadata": {
    "collapsed": false
   },
   "outputs": [
    {
     "data": {
      "text/plain": [
       "SVC(C=1.0, cache_size=200, class_weight=None, coef0=0.0,\n",
       "  decision_function_shape=None, degree=3, gamma='auto', kernel='rbf',\n",
       "  max_iter=-1, probability=False, random_state=None, shrinking=True,\n",
       "  tol=0.001, verbose=False)"
      ]
     },
     "execution_count": 35,
     "metadata": {},
     "output_type": "execute_result"
    }
   ],
   "source": [
    "NBayesClassifier = nltk.NaiveBayesClassifier.train(trainingFeatures)\n",
    "from nltk.corpus import sentiwordnet as swn\n",
    "import numpy as np\n",
    "from sklearn.feature_extraction.text import CountVectorizer\n",
    "\n",
    "svmTrainingData = [' '.join(tweet[0]) for tweet in ppTrainingData]\n",
    "\n",
    "vectorizer = CountVectorizer(min_df = 1)\n",
    "X = vectorizer.fit_transform(svmTrainingData).toarray()\n",
    "vocabulary=vectorizer.get_feature_names()\n",
    "\n",
    "swn_weights=[]\n",
    "for word in vocabulary:\n",
    "    try:\n",
    "        synset = list(swn.senti_synsets(word))\n",
    "        common_meaning = synset[0]\n",
    "        if common_meaning.pos_score()>common_meaning.net_score():\n",
    "            weight = common_meaning.pos_score()\n",
    "        elif common_meaning.pos_score()<common_meaning.net_score():\n",
    "            weight=common_meaning.neg_score()\n",
    "        else:\n",
    "            weight = 0\n",
    "    \n",
    "    except:\n",
    "        weight = 0\n",
    "    swn_weights.append(weight)\n",
    "    \n",
    "swn_X = []\n",
    "for row in X:\n",
    "    swn_X.append(np.multiply(row, np.array(swn_weights)))\n",
    "    \n",
    "swn_X = np.vstack(swn_X)\n",
    "\n",
    "labels_to_array = {\"positive\":1, \"negative\":2}\n",
    "labels = [labels_to_array[tweet[1]] for tweet in ppTrainingData]\n",
    "y=np.array(labels)\n",
    "\n",
    "from sklearn.svm import SVC\n",
    "SVMClassifier = SVC()\n",
    "SVMClassifier.fit(swn_X,y)"
   ]
  },
  {
   "cell_type": "code",
   "execution_count": 36,
   "metadata": {
    "collapsed": true
   },
   "outputs": [],
   "source": [
    "NBResultLabels = [NBayesClassifier.classify(extract_features(tweet[0])) for tweet in ppTestData] \n",
    "\n",
    "SVMResultLabels = []\n",
    "for tweet in ppTestData:\n",
    "    tweet_sentence = ' '.join(tweet[0])\n",
    "    svmFeatures=np.multiply(vectorizer.transform([tweet_sentence]).toarray(), np.array(swn_weights))\n",
    "    SVMResultLabels.append(SVMClassifier.predict(svmFeatures)[0])"
   ]
  },
  {
   "cell_type": "code",
   "execution_count": 38,
   "metadata": {
    "collapsed": false
   },
   "outputs": [
    {
     "name": "stdout",
     "output_type": "stream",
     "text": [
      "NB Result Positive Sentiment94.38202247191012%\n",
      "SVM Result Negative Sentiment100.0%\n"
     ]
    }
   ],
   "source": [
    "if NBResultLabels.count('positive') > NBResultLabels.count('negative'):\n",
    "    print ('NB Result Positive Sentiment' + str(100*NBResultLabels.count('positive')/len(NBResultLabels)) + '%')\n",
    "else:\n",
    "    print ('NB Result Negative Sentiment' + str(100*NBResultLabels.count('negative')/len(NBResultLabels)) + '%')\n",
    "    \n",
    "if SVMResultLabels.count(1) > NBResultLabels.count(2):\n",
    "    print (\"SVM Result Positive Sentiment\" + str(100*SVMResultLabels.count(1)/len(SVMResultLabels)) + \"%\")\n",
    "else:\n",
    "    print (\"SVM Result Negative Sentiment\" + str(100*SVMResultLabels.count(2)/len(SVMResultLabels)) + \"%\")"
   ]
  },
  {
   "cell_type": "code",
   "execution_count": null,
   "metadata": {
    "collapsed": true
   },
   "outputs": [],
   "source": []
  }
 ],
 "metadata": {
  "anaconda-cloud": {},
  "kernelspec": {
   "display_name": "Python [conda root]",
   "language": "python",
   "name": "conda-root-py"
  },
  "language_info": {
   "codemirror_mode": {
    "name": "ipython",
    "version": 3
   },
   "file_extension": ".py",
   "mimetype": "text/x-python",
   "name": "python",
   "nbconvert_exporter": "python",
   "pygments_lexer": "ipython3",
   "version": "3.5.2"
  }
 },
 "nbformat": 4,
 "nbformat_minor": 2
}
